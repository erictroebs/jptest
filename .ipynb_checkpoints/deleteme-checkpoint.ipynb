{
 "cells": [
  {
   "cell_type": "markdown",
   "id": "96a10bb6",
   "metadata": {
    "pycharm": {
     "name": "#%% md\n"
    }
   },
   "source": [
    "# Test Übungsblatt"
   ]
  },
  {
   "cell_type": "markdown",
   "id": "7b77397f",
   "metadata": {},
   "source": [
    "## Aufgabe 1\n",
    "Schreiben Sie eine Funktion `fib`, die als Parameter eine ganze Zahl `n` akzeptiert und als Ergebnis die $n$-te Fibonacci-Zahl zurückgibt."
   ]
  },
  {
   "cell_type": "code",
   "execution_count": 1,
   "id": "58be35d6",
   "metadata": {
    "tags": [
     "task-1"
    ]
   },
   "outputs": [],
   "source": [
    "my_n = 25"
   ]
  },
  {
   "cell_type": "code",
   "execution_count": 2,
   "id": "d09bed77",
   "metadata": {
    "pycharm": {
     "name": "#%%\n"
    },
    "tags": [
     "task-1"
    ]
   },
   "outputs": [],
   "source": [
    "def fib(n):\n",
    "    if n <= 1:\n",
    "        return n\n",
    "    else:\n",
    "        return fib(n-1) + fib(n-2)"
   ]
  },
  {
   "cell_type": "code",
   "execution_count": 3,
   "id": "285ae8e5",
   "metadata": {},
   "outputs": [
    {
     "data": {
      "text/plain": [
       "75025"
      ]
     },
     "execution_count": 3,
     "metadata": {},
     "output_type": "execute_result"
    }
   ],
   "source": [
    "fib(my_n)"
   ]
  },
  {
   "cell_type": "markdown",
   "id": "752d4ee3",
   "metadata": {
    "pycharm": {
     "name": "#%%\n"
    }
   },
   "source": [
    "## Aufgabe 2\n",
    "Legen Sie die ersten $20$ Fibonacci Zahlen beginnend mit $n=1$ in einer Liste `fib_list` ab."
   ]
  },
  {
   "cell_type": "code",
   "execution_count": 4,
   "id": "0f0ddc98",
   "metadata": {
    "pycharm": {
     "name": "#%%\n"
    },
    "tags": [
     "task-2"
    ]
   },
   "outputs": [
    {
     "data": {
      "text/plain": [
       "[1,\n",
       " 1,\n",
       " 2,\n",
       " 3,\n",
       " 5,\n",
       " 8,\n",
       " 13,\n",
       " 21,\n",
       " 34,\n",
       " 55,\n",
       " 89,\n",
       " 144,\n",
       " 233,\n",
       " 377,\n",
       " 610,\n",
       " 987,\n",
       " 1597,\n",
       " 2584,\n",
       " 4181,\n",
       " 6765]"
      ]
     },
     "execution_count": 4,
     "metadata": {},
     "output_type": "execute_result"
    }
   ],
   "source": [
    "fib_list = list(map(fib, range(1, 21)))\n",
    "fib_list"
   ]
  },
  {
   "cell_type": "markdown",
   "id": "8ccb2747",
   "metadata": {},
   "source": [
    "## Aufgabe 3\n",
    "Schreiben Sie eine Funktion `add`, die zwei Zahlen als Parameter akzeptiert und die Summe zurückgibt."
   ]
  },
  {
   "cell_type": "code",
   "execution_count": 5,
   "id": "5f90cfba",
   "metadata": {
    "tags": [
     "task-3"
    ]
   },
   "outputs": [],
   "source": [
    "def add(a, b, operator='+'):\n",
    "    if operator == '+':\n",
    "        return a + b\n",
    "    elif operator == '*':\n",
    "        return a * b\n",
    "    else:\n",
    "        raise ValueError(f'operator = {operator}')"
   ]
  },
  {
   "cell_type": "markdown",
   "id": "f5bbcb78",
   "metadata": {},
   "source": [
    "## Aufgabe 4\n",
    "Erstellen Sie ein DataFrame!"
   ]
  },
  {
   "cell_type": "code",
   "execution_count": 9,
   "id": "35428926",
   "metadata": {
    "tags": [
     "task-4"
    ]
   },
   "outputs": [],
   "source": [
    "df = pd.DataFrame({'a': [1, 2, 3], 'b': 5})"
   ]
  }
 ],
 "metadata": {
  "celltoolbar": "Tags",
  "kernelspec": {
   "display_name": "Python 3 (ipykernel)",
   "language": "python",
   "name": "python3"
  },
  "language_info": {
   "codemirror_mode": {
    "name": "ipython",
    "version": 3
   },
   "file_extension": ".py",
   "mimetype": "text/x-python",
   "name": "python",
   "nbconvert_exporter": "python",
   "pygments_lexer": "ipython3",
   "version": "3.8.10"
  }
 },
 "nbformat": 4,
 "nbformat_minor": 5
}
