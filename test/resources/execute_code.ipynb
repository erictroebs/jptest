{
 "cells": [
  {
   "cell_type": "markdown",
   "id": "a360325d",
   "metadata": {
    "pycharm": {
     "name": "#%% md\n"
    }
   },
   "source": [
    "# Headline"
   ]
  },
  {
   "cell_type": "code",
   "execution_count": 1,
   "id": "757f6392",
   "metadata": {
    "pycharm": {
     "name": "#%%\n"
    }
   },
   "outputs": [],
   "source": [
    "# imports\n",
    "from IPython.display import Image"
   ]
  },
  {
   "cell_type": "code",
   "execution_count": 2,
   "id": "0c419e3c",
   "metadata": {
    "pycharm": {
     "name": "#%%\n"
    },
    "tags": [
     "task-1"
    ]
   },
   "outputs": [
    {
     "data": {
      "text/plain": [
       "6"
      ]
     },
     "execution_count": 2,
     "metadata": {},
     "output_type": "execute_result"
    }
   ],
   "source": [
    "a = 5\n",
    "a + 1"
   ]
  },
  {
   "cell_type": "code",
   "execution_count": 3,
   "id": "c0923efb",
   "metadata": {
    "pycharm": {
     "name": "#%%\n"
    }
   },
   "outputs": [
    {
     "data": {
      "image/png": "[encoded data removed]",
      "text/plain": [
       "<IPython.core.display.Image object>"
      ]
     },
     "execution_count": 3,
     "metadata": {},
     "output_type": "execute_result"
    }
   ],
   "source": [
    "# load image\n",
    "Image('stripes.png')"
   ]
  },
  {
   "cell_type": "code",
   "execution_count": 14,
   "id": "2336e75b",
   "metadata": {
    "pycharm": {
     "name": "#%%\n"
    },
    "tags": [
     "task-2"
    ]
   },
   "outputs": [
    {
     "data": {
      "text/plain": [
       "106"
      ]
     },
     "execution_count": 14,
     "metadata": {},
     "output_type": "execute_result"
    }
   ],
   "source": [
    "a = 105\n",
    "a + 1"
   ]
  },
  {
   "cell_type": "code",
   "execution_count": 15,
   "id": "fa9bda20",
   "metadata": {
    "tags": [
     "task-2"
    ]
   },
   "outputs": [
    {
     "data": {
      "text/plain": [
       "111"
      ]
     },
     "execution_count": 15,
     "metadata": {},
     "output_type": "execute_result"
    }
   ],
   "source": [
    "a += 5\n",
    "a + 1"
   ]
  },
  {
   "cell_type": "code",
   "execution_count": 13,
   "id": "b44d75bf",
   "metadata": {
    "pycharm": {
     "name": "#%%\n"
    },
    "tags": [
     "task-1"
    ]
   },
   "outputs": [
    {
     "data": {
      "text/plain": [
       "115"
      ]
     },
     "execution_count": 13,
     "metadata": {},
     "output_type": "execute_result"
    }
   ],
   "source": [
    "a += 4\n",
    "a + 1"
   ]
  },
  {
   "cell_type": "code",
   "execution_count": 16,
   "id": "dc66f014",
   "metadata": {
    "pycharm": {
     "name": "#%%\n"
    },
    "tags": [
     "task-3"
    ]
   },
   "outputs": [
    {
     "data": {
      "text/plain": [
       "1111"
      ]
     },
     "execution_count": 16,
     "metadata": {},
     "output_type": "execute_result"
    }
   ],
   "source": [
    "a += 1000\n",
    "a + 1"
   ]
  },
  {
   "cell_type": "code",
   "execution_count": 8,
   "id": "6015a7e1",
   "metadata": {
    "tags": [
     "task-4"
    ]
   },
   "outputs": [
    {
     "data": {
      "text/plain": [
       "200"
      ]
     },
     "execution_count": 8,
     "metadata": {},
     "output_type": "execute_result"
    }
   ],
   "source": [
    "b = 200\n",
    "b"
   ]
  },
  {
   "cell_type": "code",
   "execution_count": 9,
   "id": "52d412d7",
   "metadata": {
    "tags": [
     "task-4"
    ]
   },
   "outputs": [
    {
     "data": {
      "text/plain": [
       "201"
      ]
     },
     "execution_count": 9,
     "metadata": {},
     "output_type": "execute_result"
    }
   ],
   "source": [
    "b += 1\n",
    "b"
   ]
  },
  {
   "cell_type": "code",
   "execution_count": 10,
   "id": "7670d2a2",
   "metadata": {
    "tags": [
     "task-5"
    ]
   },
   "outputs": [
    {
     "data": {
      "text/plain": [
       "300"
      ]
     },
     "execution_count": 10,
     "metadata": {},
     "output_type": "execute_result"
    }
   ],
   "source": [
    "c = 300\n",
    "c"
   ]
  }
 ],
 "metadata": {
  "celltoolbar": "Tags",
  "kernelspec": {
   "display_name": "Python 3 (ipykernel)",
   "language": "python",
   "name": "python3"
  },
  "language_info": {
   "codemirror_mode": {
    "name": "ipython",
    "version": 3
   },
   "file_extension": ".py",
   "mimetype": "text/x-python",
   "name": "python",
   "nbconvert_exporter": "python",
   "pygments_lexer": "ipython3",
   "version": "3.10.5"
  }
 },
 "nbformat": 4,
 "nbformat_minor": 5
}
