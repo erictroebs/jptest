{
 "cells": [
  {
   "cell_type": "markdown",
   "id": "3f2f5ef4",
   "metadata": {},
   "source": [
    "# Headline"
   ]
  },
  {
   "cell_type": "code",
   "execution_count": 1,
   "id": "6e4287d9",
   "metadata": {
    "tags": [
     "create"
    ]
   },
   "outputs": [],
   "source": [
    "# create\n",
    "a = 'a'\n",
    "b = 'b'\n",
    "\n",
    "c = {\n",
    "    'a': 1,\n",
    "    'b': 2\n",
    "}\n",
    "\n",
    "def nb_swap(param1, param2, replace_second=None):\n",
    "    if replace_second is None:\n",
    "        return param2, param1\n",
    "    else:\n",
    "        return replace_second, param1"
   ]
  },
  {
   "cell_type": "code",
   "execution_count": null,
   "id": "1f0019e8",
   "metadata": {
    "tags": [
     "change"
    ]
   },
   "outputs": [],
   "source": [
    "# change\n",
    "a = 1\n",
    "\n",
    "c['a'] = 11\n",
    "\n",
    "def nb_swap(param1, param2):\n",
    "    return param1"
   ]
  },
  {
   "cell_type": "code",
   "execution_count": null,
   "id": "64ffee93",
   "metadata": {
    "tags": [
     "primitives"
    ]
   },
   "outputs": [],
   "source": [
    "# primitives\n",
    "nb_int = 1024\n",
    "nb_float = 5.25\n",
    "nb_str = 'text'\n",
    "nb_bool = True"
   ]
  },
  {
   "cell_type": "code",
   "execution_count": 7,
   "id": "1d9a1a21",
   "metadata": {
    "tags": [
     "objects"
    ]
   },
   "outputs": [],
   "source": [
    "# objects\n",
    "from types import SimpleNamespace\n",
    "\n",
    "nb_obj = SimpleNamespace()\n",
    "setattr(nb_obj, 'key', 'val')\n",
    "\n",
    "nb_list = [1, 'a', None, 'b']\n",
    "nb_tuple = (2, 'b')\n",
    "nb_set = set((5, 3, 1))\n",
    "nb_dict = {\n",
    "    'a': nb_obj,\n",
    "    'b': 2\n",
    "}"
   ]
  }
 ],
 "metadata": {
  "celltoolbar": "Tags",
  "kernelspec": {
   "display_name": "Python 3 (ipykernel)",
   "language": "python",
   "name": "python3"
  },
  "language_info": {
   "codemirror_mode": {
    "name": "ipython",
    "version": 3
   },
   "file_extension": ".py",
   "mimetype": "text/x-python",
   "name": "python",
   "nbconvert_exporter": "python",
   "pygments_lexer": "ipython3",
   "version": "3.8.10"
  }
 },
 "nbformat": 4,
 "nbformat_minor": 5
}
