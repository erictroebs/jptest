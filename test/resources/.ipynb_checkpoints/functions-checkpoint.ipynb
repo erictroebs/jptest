{
 "cells": [
  {
   "cell_type": "markdown",
   "id": "a7d46d71",
   "metadata": {},
   "source": [
    "# Headline"
   ]
  },
  {
   "cell_type": "code",
   "execution_count": 2,
   "id": "65f4679e",
   "metadata": {
    "tags": [
     "definition"
    ]
   },
   "outputs": [],
   "source": [
    "#definition\n",
    "def nb_fun(a, b=2048):\n",
    "    return a\n",
    "\n",
    "def nb_unlimited(*args, **kwargs):\n",
    "    return nb_fun(*args, **kwargs)\n",
    "\n",
    "def nb1(a, b):\n",
    "    return a\n",
    "\n",
    "def nb2(a, b=2):\n",
    "    return b\n",
    "\n",
    "def nb3(a, *args):\n",
    "    pass\n",
    "\n",
    "def nb4(a, /, b, *args):\n",
    "    return None\n",
    "\n",
    "def nb5(a, **kwargs):\n",
    "    return kwargs\n",
    "\n",
    "def nb6(a, b=3, **kwargs):\n",
    "    return b\n",
    "\n",
    "def nb7(a, /, b=3):\n",
    "    return a"
   ]
  },
  {
   "cell_type": "code",
   "execution_count": null,
   "id": "45c438e2",
   "metadata": {
    "tags": [
     "execution"
    ]
   },
   "outputs": [],
   "source": [
    "#execution\n",
    "nb_fun(5, 10)"
   ]
  },
  {
   "cell_type": "code",
   "execution_count": null,
   "id": "84c2193a",
   "metadata": {
    "tags": [
     "store"
    ]
   },
   "outputs": [],
   "source": [
    "#store\n",
    "result = nb_fun(105, 110)"
   ]
  },
  {
   "cell_type": "code",
   "execution_count": null,
   "id": "ce5a357e",
   "metadata": {
    "tags": [
     "more-calls"
    ]
   },
   "outputs": [],
   "source": [
    "#more-calls\n",
    "nb_fun(148, 116)\n",
    "nb_fun('179', '155')\n",
    "nb_fun(175.25, 143.5)\n",
    "nb_fun(True, False)\n",
    "nb_fun([5, 3, 1], [2, 4, 6])\n",
    "nb_fun(None)\n",
    "\n",
    "nb_unlimited(5, 2)\n",
    "nb_unlimited(a=1, b=2)\n",
    "\n",
    "nb1(b=1, a=2)\n",
    "nb2(3)\n",
    "nb3(1, 2)\n",
    "nb4(1, 2, 3, 4, 5)\n",
    "nb5(1, b=2, c=3)\n",
    "nb6(1, c=3)\n",
    "nb7(1, b=2)"
   ]
  }
 ],
 "metadata": {
  "celltoolbar": "Tags",
  "kernelspec": {
   "display_name": "Python 3 (ipykernel)",
   "language": "python",
   "name": "python3"
  },
  "language_info": {
   "codemirror_mode": {
    "name": "ipython",
    "version": 3
   },
   "file_extension": ".py",
   "mimetype": "text/x-python",
   "name": "python",
   "nbconvert_exporter": "python",
   "pygments_lexer": "ipython3",
   "version": "3.8.10"
  }
 },
 "nbformat": 4,
 "nbformat_minor": 5
}
